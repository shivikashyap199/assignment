{
    "metadata": {
        "kernelspec": {
            "name": "SQL",
            "display_name": "SQL",
            "language": "sql"
        },
        "language_info": {
            "name": "sql",
            "version": ""
        }
    },
    "nbformat_minor": 2,
    "nbformat": 4,
    "cells": [
        {
            "cell_type": "code",
            "source": [
                "create database library_db"
            ],
            "metadata": {
                "azdata_cell_guid": "02ce1dc5-d5c4-4972-bb07-fb2320f398fb",
                "language": "sql"
            },
            "outputs": [
                {
                    "output_type": "error",
                    "ename": "",
                    "evalue": "Msg 1801, Level 16, State 3, Line 1\r\nDatabase 'library_db' already exists. Choose a different database name.",
                    "traceback": []
                },
                {
                    "output_type": "display_data",
                    "data": {
                        "text/html": "Total execution time: 00:00:00"
                    },
                    "metadata": {}
                }
            ],
            "execution_count": 4
        },
        {
            "cell_type": "code",
            "source": [
                "select * from Books"
            ],
            "metadata": {
                "azdata_cell_guid": "fbe4c51a-987d-4283-a139-28ad8e219d36",
                "language": "sql"
            },
            "outputs": [
                {
                    "output_type": "display_data",
                    "data": {
                        "text/html": "(4 rows affected)"
                    },
                    "metadata": {}
                },
                {
                    "output_type": "display_data",
                    "data": {
                        "text/html": "Total execution time: 00:00:00.006"
                    },
                    "metadata": {}
                },
                {
                    "output_type": "execute_result",
                    "metadata": {},
                    "execution_count": 28,
                    "data": {
                        "application/vnd.dataresource+json": {
                            "schema": {
                                "fields": [
                                    {
                                        "name": "book_id"
                                    },
                                    {
                                        "name": "title"
                                    },
                                    {
                                        "name": "author_id"
                                    }
                                ]
                            },
                            "data": [
                                {
                                    "book_id": "1",
                                    "title": "the accursed god",
                                    "author_id": "3"
                                },
                                {
                                    "book_id": "2",
                                    "title": "three mistakes of my life",
                                    "author_id": "4"
                                },
                                {
                                    "book_id": "3",
                                    "title": "next in line",
                                    "author_id": "5"
                                },
                                {
                                    "book_id": "4",
                                    "title": "david copperfield",
                                    "author_id": "6"
                                }
                            ]
                        },
                        "text/html": [
                            "<table>",
                            "<tr><th>book_id</th><th>title</th><th>author_id</th></tr>",
                            "<tr><td>1</td><td>the accursed god</td><td>3</td></tr>",
                            "<tr><td>2</td><td>three mistakes of my life</td><td>4</td></tr>",
                            "<tr><td>3</td><td>next in line</td><td>5</td></tr>",
                            "<tr><td>4</td><td>david copperfield</td><td>6</td></tr>",
                            "</table>"
                        ]
                    }
                }
            ],
            "execution_count": 28
        },
        {
            "cell_type": "code",
            "source": [
                "select * from Authors"
            ],
            "metadata": {
                "azdata_cell_guid": "9790827e-4120-4f22-b542-815b198709a1",
                "language": "sql"
            },
            "outputs": [
                {
                    "output_type": "display_data",
                    "data": {
                        "text/html": "(4 rows affected)"
                    },
                    "metadata": {}
                },
                {
                    "output_type": "display_data",
                    "data": {
                        "text/html": "Total execution time: 00:00:00.003"
                    },
                    "metadata": {}
                },
                {
                    "output_type": "execute_result",
                    "metadata": {},
                    "execution_count": 29,
                    "data": {
                        "application/vnd.dataresource+json": {
                            "schema": {
                                "fields": [
                                    {
                                        "name": "author_id"
                                    },
                                    {
                                        "name": "author_name"
                                    }
                                ]
                            },
                            "data": [
                                {
                                    "author_id": "3",
                                    "author_name": "vivek dutta mishra"
                                },
                                {
                                    "author_id": "4",
                                    "author_name": "chetan bhagat"
                                },
                                {
                                    "author_id": "5",
                                    "author_name": "jeffery archer"
                                },
                                {
                                    "author_id": "6",
                                    "author_name": "charles dickens"
                                }
                            ]
                        },
                        "text/html": [
                            "<table>",
                            "<tr><th>author_id</th><th>author_name</th></tr>",
                            "<tr><td>3</td><td>vivek dutta mishra</td></tr>",
                            "<tr><td>4</td><td>chetan bhagat</td></tr>",
                            "<tr><td>5</td><td>jeffery archer</td></tr>",
                            "<tr><td>6</td><td>charles dickens</td></tr>",
                            "</table>"
                        ]
                    }
                }
            ],
            "execution_count": 29
        },
        {
            "cell_type": "code",
            "source": [
                "select * from Users"
            ],
            "metadata": {
                "azdata_cell_guid": "aa2b501e-0ffb-4a00-81b1-a1a925cf73e1",
                "language": "sql"
            },
            "outputs": [
                {
                    "output_type": "display_data",
                    "data": {
                        "text/html": "(1 row affected)"
                    },
                    "metadata": {}
                },
                {
                    "output_type": "display_data",
                    "data": {
                        "text/html": "Total execution time: 00:00:00.007"
                    },
                    "metadata": {}
                },
                {
                    "output_type": "execute_result",
                    "metadata": {},
                    "execution_count": 30,
                    "data": {
                        "application/vnd.dataresource+json": {
                            "schema": {
                                "fields": [
                                    {
                                        "name": "user_id"
                                    },
                                    {
                                        "name": "username"
                                    },
                                    {
                                        "name": "password"
                                    }
                                ]
                            },
                            "data": [
                                {
                                    "user_id": "1",
                                    "username": "shivangi kashyap",
                                    "password": "shivi@123"
                                }
                            ]
                        },
                        "text/html": [
                            "<table>",
                            "<tr><th>user_id</th><th>username</th><th>password</th></tr>",
                            "<tr><td>1</td><td>shivangi kashyap</td><td>shivi@123</td></tr>",
                            "</table>"
                        ]
                    }
                }
            ],
            "execution_count": 30
        },
        {
            "cell_type": "code",
            "source": [
                "select * from Reviews"
            ],
            "metadata": {
                "azdata_cell_guid": "7431813d-68c9-4065-ae25-da3768ef00a6",
                "language": "sql"
            },
            "outputs": [
                {
                    "output_type": "display_data",
                    "data": {
                        "text/html": "(4 rows affected)"
                    },
                    "metadata": {}
                },
                {
                    "output_type": "display_data",
                    "data": {
                        "text/html": "Total execution time: 00:00:00.014"
                    },
                    "metadata": {}
                },
                {
                    "output_type": "execute_result",
                    "metadata": {},
                    "execution_count": 31,
                    "data": {
                        "application/vnd.dataresource+json": {
                            "schema": {
                                "fields": [
                                    {
                                        "name": "review_id"
                                    },
                                    {
                                        "name": "book_id"
                                    },
                                    {
                                        "name": "user_id"
                                    },
                                    {
                                        "name": "rating"
                                    },
                                    {
                                        "name": "title"
                                    },
                                    {
                                        "name": "details"
                                    }
                                ]
                            },
                            "data": [
                                {
                                    "review_id": "1",
                                    "book_id": "1",
                                    "user_id": "1",
                                    "rating": "4",
                                    "title": "the accursed god",
                                    "details": "wonderful book"
                                },
                                {
                                    "review_id": "2",
                                    "book_id": "2",
                                    "user_id": "1",
                                    "rating": "3",
                                    "title": "three mistakes of my life",
                                    "details": "nice book"
                                },
                                {
                                    "review_id": "4",
                                    "book_id": "3",
                                    "user_id": "1",
                                    "rating": "4",
                                    "title": "next in line",
                                    "details": " nice"
                                },
                                {
                                    "review_id": "5",
                                    "book_id": "4",
                                    "user_id": "1",
                                    "rating": "5",
                                    "title": "david copperfield",
                                    "details": " nice"
                                }
                            ]
                        },
                        "text/html": [
                            "<table>",
                            "<tr><th>review_id</th><th>book_id</th><th>user_id</th><th>rating</th><th>title</th><th>details</th></tr>",
                            "<tr><td>1</td><td>1</td><td>1</td><td>4</td><td>the accursed god</td><td>wonderful book</td></tr>",
                            "<tr><td>2</td><td>2</td><td>1</td><td>3</td><td>three mistakes of my life</td><td>nice book</td></tr>",
                            "<tr><td>4</td><td>3</td><td>1</td><td>4</td><td>next in line</td><td> nice</td></tr>",
                            "<tr><td>5</td><td>4</td><td>1</td><td>5</td><td>david copperfield</td><td> nice</td></tr>",
                            "</table>"
                        ]
                    }
                }
            ],
            "execution_count": 31
        }
    ]
}