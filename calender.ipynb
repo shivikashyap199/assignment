{
 "cells": [
  {
   "cell_type": "code",
   "execution_count": 1,
   "metadata": {},
   "outputs": [
    {
     "name": "stdout",
     "output_type": "stream",
     "text": [
      "Sun\tMon\tTue\tWed\tThu\tFri\tSat\t\n",
      "   \t   \t 1\t 2\t 3\t 4\t 5\t\n",
      "\n",
      " 6\t 7\t 8\t 9\t 10\t 11\t 12\t\n",
      "\n",
      " 13\t 14\t 15\t 16\t 17\t 18\t 19\t\n",
      "\n",
      " 20\t 21\t 22\t 23\t 24\t 25\t 26\t\n",
      "\n",
      " 27\t 28\t 29\t 30\t 31\t"
     ]
    }
   ],
   "source": [
    "def week_day_name(index):\n",
    "    if index==0: return \"Sunday\"\n",
    "    elif index==1: return \"Monday\"\n",
    "    elif index==2: return \"Tuesday\"\n",
    "    elif index==3: return \"Wednesday\"\n",
    "    elif index==4: return \"Thursday\"\n",
    "    elif index==5: return \"Friday\"\n",
    "    elif index==6: return \"Saturday\"\n",
    "\n",
    "def is_leap_year(year):\n",
    "    return (year%100!=0 and year%4==0) or year%400==0\n",
    "\n",
    "def days_in_month(month , year=1990):\n",
    "    if month==2:\n",
    "        return 28+int(is_leap_year(year))        \n",
    "    elif (month<8 and month%2!=0) or (month>=8 and month%2==0):\n",
    "        return 31\n",
    "    else:\n",
    "        return 30\n",
    "\n",
    "\n",
    "def date_value(day ,month, year):\n",
    "    value=0\n",
    "    y=year-1\n",
    "    # total days elapsed till the end of previous year\n",
    "    value = y * 365 + y//4  - y//100 + y//400\n",
    "\n",
    "    # add total days passed till previous month of this year\n",
    "    m=1\n",
    "    while m<month:\n",
    "        #print(f'Adding {days_in_month(m,year)} for {m}/{year}')\n",
    "        value+= days_in_month(m,year)\n",
    "        m+=1\n",
    "\n",
    "    #add days of this month\n",
    "    value+=day\n",
    "    return value\n",
    "\n",
    "def date_to_week_day(date,month,year):\n",
    "    ref_date = date_value(1,1,2006)\n",
    "    input_date= date_value(date,month,year)\n",
    "    diff= (input_date-ref_date) % 7\n",
    "    return week_day_name(diff)\n",
    "\n",
    "def print_calender(req_month,req_year):\n",
    "    days_in_req_month= days_in_month(req_month,req_year)\n",
    "    start_day= date_to_week_day(1,req_month,req_year)[0:3]\n",
    "    listt=[\"Sun\",\"Mon\",\"Tue\",\"Wed\" ,\"Thu\", \"Fri\", \"Sat\"]\n",
    "    for l in listt:\n",
    "        print(f\"{l}\",end=\"\\t\")\n",
    "    print()    \n",
    "    i=0\n",
    "    while start_day!=listt[i]:\n",
    "        print(\" \"*(len(listt[i])), end=\"\\t\")\n",
    "        i+=1\n",
    "    print(f' 1',end=\"\\t\")\n",
    "    index=i+1 #3\n",
    "    for j in range(2,days_in_req_month+1):  \n",
    "            print(f\" {j}\",end=\"\\t\")  \n",
    "            index+=1\n",
    "            index=index%7\n",
    "            if index==0:\n",
    "                print(\"\\n\")\n",
    "\n",
    "\n",
    "\n",
    "print_calender(8,2023)"
   ]
  }
 ],
 "metadata": {
  "kernelspec": {
   "display_name": "Python 3",
   "language": "python",
   "name": "python3"
  },
  "language_info": {
   "codemirror_mode": {
    "name": "ipython",
    "version": 3
   },
   "file_extension": ".py",
   "mimetype": "text/x-python",
   "name": "python",
   "nbconvert_exporter": "python",
   "pygments_lexer": "ipython3",
   "version": "3.11.5"
  },
  "orig_nbformat": 4
 },
 "nbformat": 4,
 "nbformat_minor": 2
}
