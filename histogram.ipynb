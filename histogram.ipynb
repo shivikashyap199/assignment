{
 "cells": [
  {
   "cell_type": "code",
   "execution_count": 2,
   "metadata": {},
   "outputs": [
    {
     "name": "stdout",
     "output_type": "stream",
     "text": [
      "1 | == 2\n",
      "2 | === 3\n",
      "3 | ==== 4\n"
     ]
    }
   ],
   "source": [
    "def print_histogram(mp):\n",
    "    for i,j in mp.items():\n",
    "        print(f\"{i} | {'='*j} {j}\")\n",
    "\n",
    "n=int(input(\"enter the number of key-value pair\"))\n",
    "mp={}\n",
    "for i in range(n):\n",
    "    ele=int(input(\"enter the key\"))\n",
    "    value=int(input(\"enter the frequency\"))\n",
    "    mp[ele]=value\n",
    "print_histogram(mp)\n"
   ]
  }
 ],
 "metadata": {
  "kernelspec": {
   "display_name": "Python 3",
   "language": "python",
   "name": "python3"
  },
  "language_info": {
   "codemirror_mode": {
    "name": "ipython",
    "version": 3
   },
   "file_extension": ".py",
   "mimetype": "text/x-python",
   "name": "python",
   "nbconvert_exporter": "python",
   "pygments_lexer": "ipython3",
   "version": "3.11.5"
  },
  "orig_nbformat": 4
 },
 "nbformat": 4,
 "nbformat_minor": 2
}
