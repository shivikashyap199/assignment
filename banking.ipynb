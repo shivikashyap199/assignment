{
 "cells": [
  {
   "cell_type": "code",
   "execution_count": 6,
   "metadata": {},
   "outputs": [
    {
     "name": "stdout",
     "output_type": "stream",
     "text": [
      "Customer Account number : 10\n",
      "Customer Name : shivangi\n",
      "Password : Shivangi@123\n",
      "Balance: 54020.833333333336\n",
      "Interest Rate : 5\n"
     ]
    }
   ],
   "source": [
    "class Bank:\n",
    "\n",
    "    pass\n",
    "\n",
    "def create(acc_number,name,password,balance,interest_rate,deposit,amt_withdraw):    \n",
    "    t=Bank()\n",
    "    t.acc_number=acc_number\n",
    "    t.name=name\n",
    "    t.password=password\n",
    "    t.balance=balance\n",
    "    t.interest_rate=interest_rate\n",
    "    t.deposit=deposit\n",
    "    t.amt_withdraw=amt_withdraw\n",
    "    return t\n",
    "\n",
    "def deposit(t):\n",
    "    if t.deposit>0:\n",
    "        t.balance += t.deposit\n",
    "    else:\n",
    "        print(\"invalid amount\")\n",
    "\n",
    "def interest(t):\n",
    "    t.balance+=((t.balance*t.interest_rate)/1200)\n",
    "\n",
    "def withdraw(t,password):\n",
    "        if t.amt_withdraw>0 and t.amt_withdraw < t.balance and t.password==password:\n",
    "            t.balance-= t.amt_withdraw\n",
    "        else:\n",
    "            print(\"Insufficient balance or wrong password\")\n",
    "\n",
    "def account_information(t):\n",
    "    return f\"Customer Account number : {t.acc_number}\\nCustomer Name : {t.name}\\nPassword : {t.password}\\nBalance: {t.balance}\\nInterest Rate : {t.interest_rate}\"\n",
    "\n",
    "c = create(10,\"shivangi\",\"Shivangi@123\",5000,5,50000,1000)\n",
    "if isinstance(c,Bank):\n",
    "    interest(c)\n",
    "    deposit(c)\n",
    "    withdraw(c,\"Shivangi@123\")\n",
    "    print(account_information(c))\n",
    "else:\n",
    "    print(\"Enter valid object\")"
   ]
  }
 ],
 "metadata": {
  "kernelspec": {
   "display_name": "Python 3",
   "language": "python",
   "name": "python3"
  },
  "language_info": {
   "codemirror_mode": {
    "name": "ipython",
    "version": 3
   },
   "file_extension": ".py",
   "mimetype": "text/x-python",
   "name": "python",
   "nbconvert_exporter": "python",
   "pygments_lexer": "ipython3",
   "version": "3.11.5"
  },
  "orig_nbformat": 4
 },
 "nbformat": 4,
 "nbformat_minor": 2
}
