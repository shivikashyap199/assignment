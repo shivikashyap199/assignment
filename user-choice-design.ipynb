{
 "cells": [
  {
   "cell_type": "code",
   "execution_count": 1,
   "metadata": {},
   "outputs": [
    {
     "name": "stdout",
     "output_type": "stream",
     "text": [
      "1 | ++++ ++++            2\n",
      "\n",
      "2 | ++++ ++++ ++++       3\n",
      "\n",
      "3 | ++++ ++++ ++++ ++++  4\n",
      "\n"
     ]
    }
   ],
   "source": [
    "#assignment 2\n",
    "def plot_histogram(freq_dist, design = '++++ ',show_freq=False, align_freq=False):\n",
    "     if(align_freq):\n",
    "         c=max(mp.values())\n",
    "         l=len(design)\n",
    "     for i,j in mp.items():\n",
    "       if(align_freq):\n",
    "         d=c-j\n",
    "         ans=f\"{i} | {design*j}{l*d*' '} \"\n",
    "       else:\n",
    "        ans=f\"{i} | {design*j} \"\n",
    "       if(show_freq):\n",
    "        ans+=f\"{j}\"\n",
    "       print(ans)\n",
    "       print()\n",
    "mp={1:2,2:3,3:4}\n",
    "\n",
    "# print_histogram(mp)\n",
    "plot_histogram(mp,design='++++ ',show_freq=True,align_freq=True)\n"
   ]
  }
 ],
 "metadata": {
  "kernelspec": {
   "display_name": "Python 3",
   "language": "python",
   "name": "python3"
  },
  "language_info": {
   "codemirror_mode": {
    "name": "ipython",
    "version": 3
   },
   "file_extension": ".py",
   "mimetype": "text/x-python",
   "name": "python",
   "nbconvert_exporter": "python",
   "pygments_lexer": "ipython3",
   "version": "3.11.5"
  },
  "orig_nbformat": 4
 },
 "nbformat": 4,
 "nbformat_minor": 2
}
