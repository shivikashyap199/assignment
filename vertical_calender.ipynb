{
 "cells": [
  {
   "cell_type": "code",
   "execution_count": 16,
   "metadata": {},
   "outputs": [
    {
     "name": "stdout",
     "output_type": "stream",
     "text": [
      "Sun\t \t6\t13\t20\t27\t\n",
      "Mon\t \t7\t14\t21\t28\t\n",
      "Tue\t1\t8\t15\t22\t29\t\n",
      "Wed\t2\t9\t16\t23\t30\t\n",
      "Thu\t3\t10\t17\t24\t31\t\n",
      "Fri\t4\t11\t18\t25\t\n",
      "Sat\t5\t12\t19\t26\t\n"
     ]
    }
   ],
   "source": [
    "def week_day_name(index):\n",
    "    if index==0: return \"Sunday\"\n",
    "    elif index==1: return \"Monday\"\n",
    "    elif index==2: return \"Tuesday\"\n",
    "    elif index==3: return \"Wednesday\"\n",
    "    elif index==4: return \"Thursday\"\n",
    "    elif index==5: return \"Friday\"\n",
    "    elif index==6: return \"Saturday\"\n",
    "\n",
    "def is_leap_year(year):\n",
    "    return (year%100!=0 and year%4==0) or year%400==0\n",
    "\n",
    "def days_in_month(month , year=1990):\n",
    "    if month==2:\n",
    "        return 28+int(is_leap_year(year))        \n",
    "    elif (month<8 and month%2!=0) or (month>=8 and month%2==0):\n",
    "        return 31\n",
    "    else:\n",
    "        return 30\n",
    "\n",
    "\n",
    "def date_value(day ,month, year):\n",
    "    value=0\n",
    "    y=year-1\n",
    "    # total days elapsed till the end of previous year\n",
    "    value = y * 365 + y//4  - y//100 + y//400\n",
    "\n",
    "    # add total days passed till previous month of this year\n",
    "    m=1\n",
    "    while m<month:\n",
    "        #print(f'Adding {days_in_month(m,year)} for {m}/{year}')\n",
    "        value+= days_in_month(m,year)\n",
    "        m+=1\n",
    "\n",
    "    #add days of this month\n",
    "    value+=day\n",
    "    return value\n",
    "\n",
    "def date_to_week_day(date,month,year):\n",
    "    ref_date = date_value(1,1,2006)\n",
    "    input_date= date_value(date,month,year)\n",
    "    diff= (input_date-ref_date) % 7\n",
    "    return week_day_name(diff)\n",
    "\n",
    "def print_calender(req_month,req_year):\n",
    "    days_in_req_month= days_in_month(req_month,req_year)\n",
    "    start_day= date_to_week_day(1,req_month,req_year)[0:3]\n",
    "    week=[\"Sun\",\"Mon\",\"Tue\",\"Wed\",\"Thu\",\"Fri\",\"Sat\"]\n",
    "    calendar={\"Sun\":[],\"Mon\":[],\"Tue\":[],\"Wed\":[] ,\"Thu\":[], \"Fri\":[], \"Sat\":[]}\n",
    "\n",
    "    i=week.index(start_day)\n",
    "    j=i-1\n",
    "    day=1\n",
    "    while(j>=0):\n",
    "        calendar[f\"{week[j]}\"].append(\" \")\n",
    "        j-=1\n",
    "    while(day<=days_in_req_month):\n",
    "        calendar[f\"{week[i]}\"].append(day)\n",
    "        day+=1\n",
    "        i=(i+1)%7\n",
    "\n",
    "   \n",
    "    for day,dates in calendar.items():\n",
    "        print(f\"{day}\",end='\\t')\n",
    "        for date in dates:\n",
    "            print(f\"{date}\",end='\\t')\n",
    "        print()  \n",
    "\n",
    "\n",
    "\n",
    "print_calender(8,2023)\n"
   ]
  }
 ],
 "metadata": {
  "kernelspec": {
   "display_name": "Python 3",
   "language": "python",
   "name": "python3"
  },
  "language_info": {
   "codemirror_mode": {
    "name": "ipython",
    "version": 3
   },
   "file_extension": ".py",
   "mimetype": "text/x-python",
   "name": "python",
   "nbconvert_exporter": "python",
   "pygments_lexer": "ipython3",
   "version": "3.11.5"
  },
  "orig_nbformat": 4
 },
 "nbformat": 4,
 "nbformat_minor": 2
}
