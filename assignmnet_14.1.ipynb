{
    "metadata": {
        "kernelspec": {
            "name": "SQL",
            "display_name": "SQL",
            "language": "sql"
        },
        "language_info": {
            "name": "sql",
            "version": ""
        }
    },
    "nbformat_minor": 2,
    "nbformat": 4,
    "cells": [
        {
            "cell_type": "code",
            "source": [
                "create database books_db"
            ],
            "metadata": {
                "azdata_cell_guid": "32af09c9-5973-4da0-9803-d10e5b2d271f",
                "language": "sql"
            },
            "outputs": [
                {
                    "output_type": "display_data",
                    "data": {
                        "text/html": "Commands completed successfully."
                    },
                    "metadata": {}
                },
                {
                    "output_type": "display_data",
                    "data": {
                        "text/html": "Total execution time: 00:00:00.828"
                    },
                    "metadata": {}
                }
            ],
            "execution_count": 1
        },
        {
            "cell_type": "code",
            "source": [
                "use books_db"
            ],
            "metadata": {
                "azdata_cell_guid": "41d195dd-d7f5-453b-a461-bd83e62cc82e",
                "language": "sql"
            },
            "outputs": [
                {
                    "output_type": "display_data",
                    "data": {
                        "text/html": "Commands completed successfully."
                    },
                    "metadata": {}
                },
                {
                    "output_type": "display_data",
                    "data": {
                        "text/html": "Total execution time: 00:00:00.221"
                    },
                    "metadata": {}
                }
            ],
            "execution_count": 2
        },
        {
            "cell_type": "code",
            "source": [
                "CREATE TABLE Book (\r\n",
                "    book_id INT PRIMARY KEY,\r\n",
                "    title VARCHAR(255)\r\n",
                ");\r\n",
                ""
            ],
            "metadata": {
                "azdata_cell_guid": "6ece6091-624a-4a15-bf52-1b9a3f4d196b",
                "language": "sql"
            },
            "outputs": [
                {
                    "output_type": "display_data",
                    "data": {
                        "text/html": "Commands completed successfully."
                    },
                    "metadata": {}
                },
                {
                    "output_type": "display_data",
                    "data": {
                        "text/html": "Total execution time: 00:00:00.020"
                    },
                    "metadata": {}
                }
            ],
            "execution_count": 3
        },
        {
            "cell_type": "code",
            "source": [
                "\r\n",
                "\r\n",
                "CREATE TABLE Publisher (\r\n",
                "    publisher_id INT PRIMARY KEY,\r\n",
                "    name VARCHAR(255),\r\n",
                "    address VARCHAR(255),\r\n",
                "    website VARCHAR(255)\r\n",
                ");\r\n",
                "\r\n",
                "\r\n",
                ""
            ],
            "metadata": {
                "azdata_cell_guid": "078a16d6-c17a-4787-b333-ae8e3d440246",
                "language": "sql"
            },
            "outputs": [
                {
                    "output_type": "display_data",
                    "data": {
                        "text/html": "Commands completed successfully."
                    },
                    "metadata": {}
                },
                {
                    "output_type": "display_data",
                    "data": {
                        "text/html": "Total execution time: 00:00:00.020"
                    },
                    "metadata": {}
                }
            ],
            "execution_count": 4
        },
        {
            "cell_type": "code",
            "source": [
                "CREATE TABLE ISBN (\r\n",
                "    isbn_id INT PRIMARY KEY,\r\n",
                "    book_id INT,\r\n",
                "    format VARCHAR(50),\r\n",
                "    price INT default(0),\r\n",
                "    cover VARCHAR(50),\r\n",
                "    publisher_id INT,\r\n",
                "    FOREIGN KEY (book_id) REFERENCES Book(book_id),\r\n",
                "    FOREIGN KEY (publisher_id) REFERENCES Publisher(publisher_id)\r\n",
                ");\r\n",
                "\r\n",
                "\r\n",
                ""
            ],
            "metadata": {
                "azdata_cell_guid": "aa5eb974-03aa-4760-b646-188b15c799e8",
                "language": "sql"
            },
            "outputs": [
                {
                    "output_type": "display_data",
                    "data": {
                        "text/html": "Commands completed successfully."
                    },
                    "metadata": {}
                },
                {
                    "output_type": "display_data",
                    "data": {
                        "text/html": "Total execution time: 00:00:00.015"
                    },
                    "metadata": {}
                }
            ],
            "execution_count": 7
        },
        {
            "cell_type": "code",
            "source": [
                "\r\n",
                "\r\n",
                "\r\n",
                "CREATE TABLE Reviewer (\r\n",
                "    reviewer_id INT PRIMARY KEY,\r\n",
                "    name VARCHAR(255),\r\n",
                "    email VARCHAR(255)\r\n",
                ");\r\n",
                "\r\n",
                "\r\n",
                ""
            ],
            "metadata": {
                "azdata_cell_guid": "6f0eed44-9cce-4279-936b-bb6cd85496e0",
                "language": "sql"
            },
            "outputs": [
                {
                    "output_type": "display_data",
                    "data": {
                        "text/html": "Commands completed successfully."
                    },
                    "metadata": {}
                },
                {
                    "output_type": "display_data",
                    "data": {
                        "text/html": "Total execution time: 00:00:00.016"
                    },
                    "metadata": {}
                }
            ],
            "execution_count": 8
        },
        {
            "cell_type": "code",
            "source": [
                "\r\n",
                "\r\n",
                "\r\n",
                "CREATE TABLE Review (\r\n",
                "    review_id INT PRIMARY KEY,\r\n",
                "    book_id INT,\r\n",
                "    reviewer_id INT,\r\n",
                "    title VARCHAR(255),\r\n",
                "    details TEXT,\r\n",
                "    rating INT NOT NULL,\r\n",
                "    FOREIGN KEY (book_id) REFERENCES Book(book_id),\r\n",
                "    FOREIGN KEY (reviewer_id) REFERENCES Reviewer(reviewer_id)\r\n",
                ");\r\n",
                "\r\n",
                "\r\n",
                ""
            ],
            "metadata": {
                "azdata_cell_guid": "c38abe2a-c84c-4d1f-9488-530e372450f1",
                "language": "sql"
            },
            "outputs": [
                {
                    "output_type": "display_data",
                    "data": {
                        "text/html": "Commands completed successfully."
                    },
                    "metadata": {}
                },
                {
                    "output_type": "display_data",
                    "data": {
                        "text/html": "Total execution time: 00:00:00.014"
                    },
                    "metadata": {}
                }
            ],
            "execution_count": 9
        },
        {
            "cell_type": "code",
            "source": [
                "\r\n",
                "\r\n",
                "INSERT INTO Book (book_id, title) VALUES\r\n",
                "    (1, 'Sample Book 1'),\r\n",
                "    (2, 'Sample Book 2');\r\n",
                "\r\n",
                ""
            ],
            "metadata": {
                "azdata_cell_guid": "3fa554ec-15e8-49b6-9223-283aaa63bdc8",
                "language": "sql"
            },
            "outputs": [
                {
                    "output_type": "display_data",
                    "data": {
                        "text/html": "(2 rows affected)"
                    },
                    "metadata": {}
                },
                {
                    "output_type": "display_data",
                    "data": {
                        "text/html": "Total execution time: 00:00:00.027"
                    },
                    "metadata": {}
                }
            ],
            "execution_count": 10
        },
        {
            "cell_type": "code",
            "source": [
                "\r\n",
                "\r\n",
                "INSERT INTO ISBN (isbn_id, book_id, format, price, cover, publisher_id) VALUES\r\n",
                "    (1, 1, 'paperback', 20, 'Softcover', 1),\r\n",
                "    (2, 1, 'ebook', 90, 'Digital', 2),\r\n",
                "    (3, 2, 'hardbound', 30, 'Hardcover', 3);\r\n",
                "\r\n",
                ""
            ],
            "metadata": {
                "azdata_cell_guid": "d86b4ae0-e8c2-4f17-a82b-45bffbb40401",
                "language": "sql"
            },
            "outputs": [
                {
                    "output_type": "error",
                    "evalue": "Msg 547, Level 16, State 0, Line 3\r\nThe INSERT statement conflicted with the FOREIGN KEY constraint \"FK__ISBN__publisher___534D60F1\". The conflict occurred in database \"books_db\", table \"dbo.Publisher\", column 'publisher_id'.",
                    "ename": "",
                    "traceback": []
                },
                {
                    "output_type": "display_data",
                    "data": {
                        "text/html": "The statement has been terminated."
                    },
                    "metadata": {}
                },
                {
                    "output_type": "display_data",
                    "data": {
                        "text/html": "Total execution time: 00:00:00.038"
                    },
                    "metadata": {}
                }
            ],
            "execution_count": 11
        },
        {
            "cell_type": "code",
            "source": [
                "INSERT INTO Publisher (publisher_id, name, address, website) VALUES\r\n",
                "    (1, 'Publisher A', '123 Main St, City A', 'www.publisherA.com'),\r\n",
                "    (2, 'Publisher B', '456 Elm St, City B', 'www.publisherB.com'),\r\n",
                "    (3, 'Publisher C', '789 Oak St, City C', 'www.publisherC.com');\r\n",
                "\r\n",
                ""
            ],
            "metadata": {
                "azdata_cell_guid": "a5aeca5d-12d2-4a97-8098-849111cdec14",
                "language": "sql"
            },
            "outputs": [
                {
                    "output_type": "display_data",
                    "data": {
                        "text/html": "(3 rows affected)"
                    },
                    "metadata": {}
                },
                {
                    "output_type": "display_data",
                    "data": {
                        "text/html": "Total execution time: 00:00:00.016"
                    },
                    "metadata": {}
                }
            ],
            "execution_count": 12
        },
        {
            "cell_type": "code",
            "source": [
                "\r\n",
                "INSERT INTO ISBN (isbn_id, book_id, format, price, cover, publisher_id) VALUES\r\n",
                "    (1, 1, 'paperback', 20, 'Softcover', 1),\r\n",
                "    (2, 1, 'ebook', 90, 'Digital', 2),\r\n",
                "    (3, 2, 'hardbound', 30, 'Hardcover', 3);\r\n",
                ""
            ],
            "metadata": {
                "azdata_cell_guid": "98b092e5-fbcd-44b3-bc31-1eea91c3d07e",
                "language": "sql"
            },
            "outputs": [
                {
                    "output_type": "display_data",
                    "data": {
                        "text/html": "(3 rows affected)"
                    },
                    "metadata": {}
                },
                {
                    "output_type": "display_data",
                    "data": {
                        "text/html": "Total execution time: 00:00:00.021"
                    },
                    "metadata": {}
                }
            ],
            "execution_count": 13
        },
        {
            "cell_type": "code",
            "source": [
                "\r\n",
                "INSERT INTO ISBN (isbn_id, book_id, format, price, cover, publisher_id) VALUES\r\n",
                "    (1, 1, 'paperback', 20, 'Softcover', 1),\r\n",
                "    (2, 1, 'ebook', 90, 'Digital', 2),\r\n",
                "    (3, 2, 'hardbound', 30, 'Hardcover', 3);\r\n",
                ""
            ],
            "metadata": {
                "azdata_cell_guid": "20930bf2-b22f-43f5-9f96-50533256b226",
                "language": "sql"
            },
            "outputs": [],
            "execution_count": null
        },
        {
            "cell_type": "code",
            "source": [
                "INSERT INTO Reviewer (reviewer_id, name, email) VALUES\r\n",
                "    (1, 'John Doe', 'john@example.com'),\r\n",
                "    (2, 'Jane Smith', 'jane@example.com');"
            ],
            "metadata": {
                "azdata_cell_guid": "36c485eb-a249-4cbc-ade5-9c6061d04f25",
                "language": "sql"
            },
            "outputs": [
                {
                    "output_type": "display_data",
                    "data": {
                        "text/html": "(2 rows affected)"
                    },
                    "metadata": {}
                },
                {
                    "output_type": "display_data",
                    "data": {
                        "text/html": "Total execution time: 00:00:00.012"
                    },
                    "metadata": {}
                }
            ],
            "execution_count": 14
        },
        {
            "cell_type": "code",
            "source": [
                "\r\n",
                "INSERT INTO Review (review_id, book_id, reviewer_id, title, details, rating) VALUES\r\n",
                "    (1, 1, 1, 'Great Read', 'I loved this book!', 5),\r\n",
                "    (2, 1, 2, 'Good Book', 'Enjoyable read.', 4),\r\n",
                "    (3, 2, 1, 'Interesting', 'A thought-provoking book.', 4);"
            ],
            "metadata": {
                "azdata_cell_guid": "ccd13852-0029-4a78-ad5e-b1bebcc249bb",
                "language": "sql"
            },
            "outputs": [
                {
                    "output_type": "display_data",
                    "data": {
                        "text/html": "(3 rows affected)"
                    },
                    "metadata": {}
                },
                {
                    "output_type": "display_data",
                    "data": {
                        "text/html": "Total execution time: 00:00:00.045"
                    },
                    "metadata": {}
                }
            ],
            "execution_count": 15
        }
    ]
}