{
 "cells": [
  {
   "cell_type": "code",
   "execution_count": 1,
   "metadata": {},
   "outputs": [
    {
     "name": "stdout",
     "output_type": "stream",
     "text": [
      "Circle<7>\n",
      "Area=154.0\n",
      "Perimeter=44.0\n"
     ]
    }
   ],
   "source": [
    "class Circle:\n",
    "    pass\n",
    "\n",
    "def create(radius):\n",
    "    t=Circle()\n",
    "    t.radius=radius\n",
    "    return t\n",
    "\n",
    "def perimeter(t):\n",
    "    return (2*22*t.radius)/7\n",
    "\n",
    "def area(t):\n",
    "    return (22*t.radius*t.radius)/7\n",
    "\n",
    "def info(t):\n",
    "    return f'Circle<{t.radius}>'\n",
    "\n",
    "def draw(t):\n",
    "    print(info(t))\n",
    "    \n",
    "def test_circle(radius):\n",
    "    t=create(radius)\n",
    "    draw(t)\n",
    "    print(f'Area={area(t)}')\n",
    "    print(f'Perimeter={perimeter(t)}')\n",
    "        \n",
    "test_circle(7)"
   ]
  }
 ],
 "metadata": {
  "kernelspec": {
   "display_name": "Python 3",
   "language": "python",
   "name": "python3"
  },
  "language_info": {
   "codemirror_mode": {
    "name": "ipython",
    "version": 3
   },
   "file_extension": ".py",
   "mimetype": "text/x-python",
   "name": "python",
   "nbconvert_exporter": "python",
   "pygments_lexer": "ipython3",
   "version": "3.11.5"
  },
  "orig_nbformat": 4
 },
 "nbformat": 4,
 "nbformat_minor": 2
}
