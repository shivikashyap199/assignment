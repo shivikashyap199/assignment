{
 "cells": [
  {
   "cell_type": "code",
   "execution_count": 2,
   "metadata": {},
   "outputs": [
    {
     "name": "stdout",
     "output_type": "stream",
     "text": [
      "1 : 3\n",
      "\n",
      "2 : 2\n",
      "\n"
     ]
    }
   ],
   "source": [
    "def count_frequencies(list1):\n",
    "    dictionary={}\n",
    "    n=len(list1)\n",
    "    for i in range(n):\n",
    "        if list1[i] in dictionary:\n",
    "            dictionary[list1[i]]+=1\n",
    "        else:\n",
    "            dictionary[list1[i]]=1\n",
    "    return dictionary\n",
    "def printing_freq(mp):\n",
    "    for i,j in mp.items():\n",
    "        print(i,\":\",j)\n",
    "        print()\n",
    "\n",
    "list1=[]\n",
    "n=int(input(\"enter the number of elements\"))\n",
    "for i in range(n):\n",
    "    ele=int(input(\"enter the numbers\"))\n",
    "    list1.append(ele)\n",
    "mp=count_frequencies(list1)\n",
    "printing_freq(mp)"
   ]
  },
  {
   "cell_type": "code",
   "execution_count": null,
   "metadata": {},
   "outputs": [],
   "source": []
  }
 ],
 "metadata": {
  "kernelspec": {
   "display_name": "Python 3",
   "language": "python",
   "name": "python3"
  },
  "language_info": {
   "codemirror_mode": {
    "name": "ipython",
    "version": 3
   },
   "file_extension": ".py",
   "mimetype": "text/x-python",
   "name": "python",
   "nbconvert_exporter": "python",
   "pygments_lexer": "ipython3",
   "version": "3.11.5"
  },
  "orig_nbformat": 4
 },
 "nbformat": 4,
 "nbformat_minor": 2
}
